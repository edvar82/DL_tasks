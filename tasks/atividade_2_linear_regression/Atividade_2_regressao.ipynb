{
  "cells": [
    {
      "cell_type": "code",
      "execution_count": null,
      "metadata": {
        "colab": {
          "base_uri": "https://localhost:8080/",
          "height": 1000
        },
        "id": "YWZjYk7IFXMZ",
        "outputId": "53de192a-ade1-4fa6-cf42-50fc577b3903"
      },
      "outputs": [],
      "source": [
        "\"\"\"\n",
        "- Efetuar uma regressão linear utilizando a base de dados em anexo que trata do valor de imóveis baseado em suas características.\n",
        "- Utilizar somente a feature area.\n",
        "- Separar a base de dados usando validação cruzada em 5  rodadas (folds). Isto é, em cada rodada, selecionar aleatoriamente 90% dos dados para treinamento e 10% para teste (use o train_test_split do scikit-learn).\n",
        "\"\"\""
      ]
    },
    {
      "cell_type": "code",
      "execution_count": null,
      "metadata": {},
      "outputs": [],
      "source": [
        "import numpy as np\n",
        "import pandas as pd\n",
        "import matplotlib.pyplot as plt\n",
        "from sklearn.model_selection import train_test_split\n",
        "from sklearn.preprocessing import StandardScaler\n",
        "\n",
        "# Carregar os dados\n",
        "data = pd.read_csv('Housing.csv')\n",
        "\n",
        "# Selecionar apenas a feature 'area' e o target 'price'\n",
        "X = data['area'].values\n",
        "y = data['price'].values\n",
        "\n",
        "# Normalizar os dados\n",
        "scaler_X = StandardScaler()\n",
        "scaler_y = StandardScaler()\n",
        "X_scaled = scaler_X.fit_transform(X.reshape(-1, 1)).flatten()\n",
        "y_scaled = scaler_y.fit_transform(y.reshape(-1, 1)).flatten()\n",
        "\n",
        "learning_rate = 0.1\n",
        "epochs = 51\n",
        "\n",
        "def compute_cost(X, y, m, b):\n",
        "    total_cost = 0\n",
        "    N = len(X)\n",
        "    for i in range(N):\n",
        "        total_cost += (y[i] - (m * X[i] + b)) ** 2\n",
        "    return total_cost / N\n",
        "\n",
        "def gradient_descent(X, y, m, b, learning_rate, epochs):\n",
        "    N = len(X)\n",
        "    cost_history = []\n",
        "    m_values = []\n",
        "    b_values = []\n",
        "\n",
        "    for epoch in range(epochs):\n",
        "        m_gradient = 0\n",
        "        b_gradient = 0\n",
        "\n",
        "        for i in range(N):\n",
        "            m_gradient += -(2/N) * X[i] * (y[i] - (m * X[i] + b))\n",
        "            b_gradient += -(2/N) * (y[i] - (m * X[i] + b))\n",
        "\n",
        "        m -= (learning_rate * m_gradient)\n",
        "        b -= (learning_rate * b_gradient)\n",
        "\n",
        "        # Armazenar o custo e os valores de m e b em cada época\n",
        "        cost = compute_cost(X, y, m, b)\n",
        "        cost_history.append(cost)\n",
        "        m_values.append(m)\n",
        "        b_values.append(b)\n",
        "\n",
        "    return m, b, cost_history, m_values, b_values\n",
        "\n",
        "folds = 5\n",
        "\n",
        "# Inicializar os parâmetros m (slope) e b (intercept)\n",
        "m = 0\n",
        "b = 0\n",
        "X_train, X_test, y_train, y_test = train_test_split(X_scaled, y_scaled, test_size=0.1)\n",
        "plt.scatter(X_train, y_train)\n",
        "plt.plot(X_train, m * X_train + b, color='red')\n",
        "plt.title(f'Before Training')\n",
        "plt.show()\n",
        "\n",
        "for fold in range(folds): \n",
        "    # Separar os dados em treinamento e teste\n",
        "    X_train, X_test, y_train, y_test = train_test_split(X_scaled, y_scaled, test_size=0.1)\n",
        "    \n",
        "    # Executar Gradiente Descendente\n",
        "    m, b, cost_history, m_values, b_values = gradient_descent(X_train, y_train, m, b, learning_rate, epochs)\n",
        "\n",
        "    # Exibir o custo final para este fold\n",
        "    print(f'Fold {fold + 1}, Final Cost: {cost_history[-1]}')\n",
        "    \n",
        "    # Plotar o gráfico final para este fold\n",
        "    plt.scatter(X_train, y_train)\n",
        "    plt.plot(X_train, m * X_train + b, color='red')\n",
        "    plt.title(f'Fold {fold + 1} - Linear Regression Result')\n",
        "    plt.show()\n"
      ]
    }
  ],
  "metadata": {
    "colab": {
      "provenance": []
    },
    "kernelspec": {
      "display_name": "Python 3",
      "name": "python3"
    },
    "language_info": {
      "codemirror_mode": {
        "name": "ipython",
        "version": 3
      },
      "file_extension": ".py",
      "mimetype": "text/x-python",
      "name": "python",
      "nbconvert_exporter": "python",
      "pygments_lexer": "ipython3",
      "version": "3.11.9"
    }
  },
  "nbformat": 4,
  "nbformat_minor": 0
}
